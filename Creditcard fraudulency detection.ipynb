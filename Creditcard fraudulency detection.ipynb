{
  "nbformat": 4,
  "nbformat_minor": 0,
  "metadata": {
    "colab": {
      "provenance": []
    },
    "kernelspec": {
      "name": "python3",
      "display_name": "Python 3"
    },
    "language_info": {
      "name": "python"
    },
    "accelerator": "GPU",
    "gpuClass": "standard"
  },
  "cells": [
    {
      "cell_type": "code",
      "source": [
        "import pandas as pd\n",
        "import numpy as np\n",
        "import keras\n",
        "\n",
        "\n",
        "\n"
      ],
      "metadata": {
        "id": "cDpGg-3lhmss"
      },
      "execution_count": null,
      "outputs": []
    },
    {
      "cell_type": "code",
      "source": [
        "# Load the dataset\n",
        "df = pd.read_csv(\"/content/creditcard (1).csv\")\n",
        "df.head()"
      ],
      "metadata": {
        "colab": {
          "base_uri": "https://localhost:8080/",
          "height": 270
        },
        "id": "QfE7avI-hp61",
        "outputId": "76eaa276-25b9-46e5-8470-676dae6f9761"
      },
      "execution_count": null,
      "outputs": [
        {
          "output_type": "execute_result",
          "data": {
            "text/plain": [
              "   Time        V1        V2        V3        V4        V5        V6        V7  \\\n",
              "0   0.0 -1.359807 -0.072781  2.536347  1.378155 -0.338321  0.462388  0.239599   \n",
              "1   0.0  1.191857  0.266151  0.166480  0.448154  0.060018 -0.082361 -0.078803   \n",
              "2   1.0 -1.358354 -1.340163  1.773209  0.379780 -0.503198  1.800499  0.791461   \n",
              "3   1.0 -0.966272 -0.185226  1.792993 -0.863291 -0.010309  1.247203  0.237609   \n",
              "4   2.0 -1.158233  0.877737  1.548718  0.403034 -0.407193  0.095921  0.592941   \n",
              "\n",
              "         V8        V9       V10       V11       V12       V13       V14  \\\n",
              "0  0.098698  0.363787  0.090794 -0.551600 -0.617801 -0.991390 -0.311169   \n",
              "1  0.085102 -0.255425 -0.166974  1.612727  1.065235  0.489095 -0.143772   \n",
              "2  0.247676 -1.514654  0.207643  0.624501  0.066084  0.717293 -0.165946   \n",
              "3  0.377436 -1.387024 -0.054952 -0.226487  0.178228  0.507757 -0.287924   \n",
              "4 -0.270533  0.817739  0.753074 -0.822843  0.538196  1.345852 -1.119670   \n",
              "\n",
              "        V15       V16       V17       V18       V19       V20       V21  \\\n",
              "0  1.468177 -0.470401  0.207971  0.025791  0.403993  0.251412 -0.018307   \n",
              "1  0.635558  0.463917 -0.114805 -0.183361 -0.145783 -0.069083 -0.225775   \n",
              "2  2.345865 -2.890083  1.109969 -0.121359 -2.261857  0.524980  0.247998   \n",
              "3 -0.631418 -1.059647 -0.684093  1.965775 -1.232622 -0.208038 -0.108300   \n",
              "4  0.175121 -0.451449 -0.237033 -0.038195  0.803487  0.408542 -0.009431   \n",
              "\n",
              "        V22       V23       V24       V25       V26       V27       V28  \\\n",
              "0  0.277838 -0.110474  0.066928  0.128539 -0.189115  0.133558 -0.021053   \n",
              "1 -0.638672  0.101288 -0.339846  0.167170  0.125895 -0.008983  0.014724   \n",
              "2  0.771679  0.909412 -0.689281 -0.327642 -0.139097 -0.055353 -0.059752   \n",
              "3  0.005274 -0.190321 -1.175575  0.647376 -0.221929  0.062723  0.061458   \n",
              "4  0.798278 -0.137458  0.141267 -0.206010  0.502292  0.219422  0.215153   \n",
              "\n",
              "   Amount  Class  \n",
              "0  149.62      0  \n",
              "1    2.69      0  \n",
              "2  378.66      0  \n",
              "3  123.50      0  \n",
              "4   69.99      0  "
            ],
            "text/html": [
              "\n",
              "  <div id=\"df-07193b3c-1e3b-4d19-adc6-ce8e55eef52c\">\n",
              "    <div class=\"colab-df-container\">\n",
              "      <div>\n",
              "<style scoped>\n",
              "    .dataframe tbody tr th:only-of-type {\n",
              "        vertical-align: middle;\n",
              "    }\n",
              "\n",
              "    .dataframe tbody tr th {\n",
              "        vertical-align: top;\n",
              "    }\n",
              "\n",
              "    .dataframe thead th {\n",
              "        text-align: right;\n",
              "    }\n",
              "</style>\n",
              "<table border=\"1\" class=\"dataframe\">\n",
              "  <thead>\n",
              "    <tr style=\"text-align: right;\">\n",
              "      <th></th>\n",
              "      <th>Time</th>\n",
              "      <th>V1</th>\n",
              "      <th>V2</th>\n",
              "      <th>V3</th>\n",
              "      <th>V4</th>\n",
              "      <th>V5</th>\n",
              "      <th>V6</th>\n",
              "      <th>V7</th>\n",
              "      <th>V8</th>\n",
              "      <th>V9</th>\n",
              "      <th>V10</th>\n",
              "      <th>V11</th>\n",
              "      <th>V12</th>\n",
              "      <th>V13</th>\n",
              "      <th>V14</th>\n",
              "      <th>V15</th>\n",
              "      <th>V16</th>\n",
              "      <th>V17</th>\n",
              "      <th>V18</th>\n",
              "      <th>V19</th>\n",
              "      <th>V20</th>\n",
              "      <th>V21</th>\n",
              "      <th>V22</th>\n",
              "      <th>V23</th>\n",
              "      <th>V24</th>\n",
              "      <th>V25</th>\n",
              "      <th>V26</th>\n",
              "      <th>V27</th>\n",
              "      <th>V28</th>\n",
              "      <th>Amount</th>\n",
              "      <th>Class</th>\n",
              "    </tr>\n",
              "  </thead>\n",
              "  <tbody>\n",
              "    <tr>\n",
              "      <th>0</th>\n",
              "      <td>0.0</td>\n",
              "      <td>-1.359807</td>\n",
              "      <td>-0.072781</td>\n",
              "      <td>2.536347</td>\n",
              "      <td>1.378155</td>\n",
              "      <td>-0.338321</td>\n",
              "      <td>0.462388</td>\n",
              "      <td>0.239599</td>\n",
              "      <td>0.098698</td>\n",
              "      <td>0.363787</td>\n",
              "      <td>0.090794</td>\n",
              "      <td>-0.551600</td>\n",
              "      <td>-0.617801</td>\n",
              "      <td>-0.991390</td>\n",
              "      <td>-0.311169</td>\n",
              "      <td>1.468177</td>\n",
              "      <td>-0.470401</td>\n",
              "      <td>0.207971</td>\n",
              "      <td>0.025791</td>\n",
              "      <td>0.403993</td>\n",
              "      <td>0.251412</td>\n",
              "      <td>-0.018307</td>\n",
              "      <td>0.277838</td>\n",
              "      <td>-0.110474</td>\n",
              "      <td>0.066928</td>\n",
              "      <td>0.128539</td>\n",
              "      <td>-0.189115</td>\n",
              "      <td>0.133558</td>\n",
              "      <td>-0.021053</td>\n",
              "      <td>149.62</td>\n",
              "      <td>0</td>\n",
              "    </tr>\n",
              "    <tr>\n",
              "      <th>1</th>\n",
              "      <td>0.0</td>\n",
              "      <td>1.191857</td>\n",
              "      <td>0.266151</td>\n",
              "      <td>0.166480</td>\n",
              "      <td>0.448154</td>\n",
              "      <td>0.060018</td>\n",
              "      <td>-0.082361</td>\n",
              "      <td>-0.078803</td>\n",
              "      <td>0.085102</td>\n",
              "      <td>-0.255425</td>\n",
              "      <td>-0.166974</td>\n",
              "      <td>1.612727</td>\n",
              "      <td>1.065235</td>\n",
              "      <td>0.489095</td>\n",
              "      <td>-0.143772</td>\n",
              "      <td>0.635558</td>\n",
              "      <td>0.463917</td>\n",
              "      <td>-0.114805</td>\n",
              "      <td>-0.183361</td>\n",
              "      <td>-0.145783</td>\n",
              "      <td>-0.069083</td>\n",
              "      <td>-0.225775</td>\n",
              "      <td>-0.638672</td>\n",
              "      <td>0.101288</td>\n",
              "      <td>-0.339846</td>\n",
              "      <td>0.167170</td>\n",
              "      <td>0.125895</td>\n",
              "      <td>-0.008983</td>\n",
              "      <td>0.014724</td>\n",
              "      <td>2.69</td>\n",
              "      <td>0</td>\n",
              "    </tr>\n",
              "    <tr>\n",
              "      <th>2</th>\n",
              "      <td>1.0</td>\n",
              "      <td>-1.358354</td>\n",
              "      <td>-1.340163</td>\n",
              "      <td>1.773209</td>\n",
              "      <td>0.379780</td>\n",
              "      <td>-0.503198</td>\n",
              "      <td>1.800499</td>\n",
              "      <td>0.791461</td>\n",
              "      <td>0.247676</td>\n",
              "      <td>-1.514654</td>\n",
              "      <td>0.207643</td>\n",
              "      <td>0.624501</td>\n",
              "      <td>0.066084</td>\n",
              "      <td>0.717293</td>\n",
              "      <td>-0.165946</td>\n",
              "      <td>2.345865</td>\n",
              "      <td>-2.890083</td>\n",
              "      <td>1.109969</td>\n",
              "      <td>-0.121359</td>\n",
              "      <td>-2.261857</td>\n",
              "      <td>0.524980</td>\n",
              "      <td>0.247998</td>\n",
              "      <td>0.771679</td>\n",
              "      <td>0.909412</td>\n",
              "      <td>-0.689281</td>\n",
              "      <td>-0.327642</td>\n",
              "      <td>-0.139097</td>\n",
              "      <td>-0.055353</td>\n",
              "      <td>-0.059752</td>\n",
              "      <td>378.66</td>\n",
              "      <td>0</td>\n",
              "    </tr>\n",
              "    <tr>\n",
              "      <th>3</th>\n",
              "      <td>1.0</td>\n",
              "      <td>-0.966272</td>\n",
              "      <td>-0.185226</td>\n",
              "      <td>1.792993</td>\n",
              "      <td>-0.863291</td>\n",
              "      <td>-0.010309</td>\n",
              "      <td>1.247203</td>\n",
              "      <td>0.237609</td>\n",
              "      <td>0.377436</td>\n",
              "      <td>-1.387024</td>\n",
              "      <td>-0.054952</td>\n",
              "      <td>-0.226487</td>\n",
              "      <td>0.178228</td>\n",
              "      <td>0.507757</td>\n",
              "      <td>-0.287924</td>\n",
              "      <td>-0.631418</td>\n",
              "      <td>-1.059647</td>\n",
              "      <td>-0.684093</td>\n",
              "      <td>1.965775</td>\n",
              "      <td>-1.232622</td>\n",
              "      <td>-0.208038</td>\n",
              "      <td>-0.108300</td>\n",
              "      <td>0.005274</td>\n",
              "      <td>-0.190321</td>\n",
              "      <td>-1.175575</td>\n",
              "      <td>0.647376</td>\n",
              "      <td>-0.221929</td>\n",
              "      <td>0.062723</td>\n",
              "      <td>0.061458</td>\n",
              "      <td>123.50</td>\n",
              "      <td>0</td>\n",
              "    </tr>\n",
              "    <tr>\n",
              "      <th>4</th>\n",
              "      <td>2.0</td>\n",
              "      <td>-1.158233</td>\n",
              "      <td>0.877737</td>\n",
              "      <td>1.548718</td>\n",
              "      <td>0.403034</td>\n",
              "      <td>-0.407193</td>\n",
              "      <td>0.095921</td>\n",
              "      <td>0.592941</td>\n",
              "      <td>-0.270533</td>\n",
              "      <td>0.817739</td>\n",
              "      <td>0.753074</td>\n",
              "      <td>-0.822843</td>\n",
              "      <td>0.538196</td>\n",
              "      <td>1.345852</td>\n",
              "      <td>-1.119670</td>\n",
              "      <td>0.175121</td>\n",
              "      <td>-0.451449</td>\n",
              "      <td>-0.237033</td>\n",
              "      <td>-0.038195</td>\n",
              "      <td>0.803487</td>\n",
              "      <td>0.408542</td>\n",
              "      <td>-0.009431</td>\n",
              "      <td>0.798278</td>\n",
              "      <td>-0.137458</td>\n",
              "      <td>0.141267</td>\n",
              "      <td>-0.206010</td>\n",
              "      <td>0.502292</td>\n",
              "      <td>0.219422</td>\n",
              "      <td>0.215153</td>\n",
              "      <td>69.99</td>\n",
              "      <td>0</td>\n",
              "    </tr>\n",
              "  </tbody>\n",
              "</table>\n",
              "</div>\n",
              "      <button class=\"colab-df-convert\" onclick=\"convertToInteractive('df-07193b3c-1e3b-4d19-adc6-ce8e55eef52c')\"\n",
              "              title=\"Convert this dataframe to an interactive table.\"\n",
              "              style=\"display:none;\">\n",
              "        \n",
              "  <svg xmlns=\"http://www.w3.org/2000/svg\" height=\"24px\"viewBox=\"0 0 24 24\"\n",
              "       width=\"24px\">\n",
              "    <path d=\"M0 0h24v24H0V0z\" fill=\"none\"/>\n",
              "    <path d=\"M18.56 5.44l.94 2.06.94-2.06 2.06-.94-2.06-.94-.94-2.06-.94 2.06-2.06.94zm-11 1L8.5 8.5l.94-2.06 2.06-.94-2.06-.94L8.5 2.5l-.94 2.06-2.06.94zm10 10l.94 2.06.94-2.06 2.06-.94-2.06-.94-.94-2.06-.94 2.06-2.06.94z\"/><path d=\"M17.41 7.96l-1.37-1.37c-.4-.4-.92-.59-1.43-.59-.52 0-1.04.2-1.43.59L10.3 9.45l-7.72 7.72c-.78.78-.78 2.05 0 2.83L4 21.41c.39.39.9.59 1.41.59.51 0 1.02-.2 1.41-.59l7.78-7.78 2.81-2.81c.8-.78.8-2.07 0-2.86zM5.41 20L4 18.59l7.72-7.72 1.47 1.35L5.41 20z\"/>\n",
              "  </svg>\n",
              "      </button>\n",
              "      \n",
              "  <style>\n",
              "    .colab-df-container {\n",
              "      display:flex;\n",
              "      flex-wrap:wrap;\n",
              "      gap: 12px;\n",
              "    }\n",
              "\n",
              "    .colab-df-convert {\n",
              "      background-color: #E8F0FE;\n",
              "      border: none;\n",
              "      border-radius: 50%;\n",
              "      cursor: pointer;\n",
              "      display: none;\n",
              "      fill: #1967D2;\n",
              "      height: 32px;\n",
              "      padding: 0 0 0 0;\n",
              "      width: 32px;\n",
              "    }\n",
              "\n",
              "    .colab-df-convert:hover {\n",
              "      background-color: #E2EBFA;\n",
              "      box-shadow: 0px 1px 2px rgba(60, 64, 67, 0.3), 0px 1px 3px 1px rgba(60, 64, 67, 0.15);\n",
              "      fill: #174EA6;\n",
              "    }\n",
              "\n",
              "    [theme=dark] .colab-df-convert {\n",
              "      background-color: #3B4455;\n",
              "      fill: #D2E3FC;\n",
              "    }\n",
              "\n",
              "    [theme=dark] .colab-df-convert:hover {\n",
              "      background-color: #434B5C;\n",
              "      box-shadow: 0px 1px 3px 1px rgba(0, 0, 0, 0.15);\n",
              "      filter: drop-shadow(0px 1px 2px rgba(0, 0, 0, 0.3));\n",
              "      fill: #FFFFFF;\n",
              "    }\n",
              "  </style>\n",
              "\n",
              "      <script>\n",
              "        const buttonEl =\n",
              "          document.querySelector('#df-07193b3c-1e3b-4d19-adc6-ce8e55eef52c button.colab-df-convert');\n",
              "        buttonEl.style.display =\n",
              "          google.colab.kernel.accessAllowed ? 'block' : 'none';\n",
              "\n",
              "        async function convertToInteractive(key) {\n",
              "          const element = document.querySelector('#df-07193b3c-1e3b-4d19-adc6-ce8e55eef52c');\n",
              "          const dataTable =\n",
              "            await google.colab.kernel.invokeFunction('convertToInteractive',\n",
              "                                                     [key], {});\n",
              "          if (!dataTable) return;\n",
              "\n",
              "          const docLinkHtml = 'Like what you see? Visit the ' +\n",
              "            '<a target=\"_blank\" href=https://colab.research.google.com/notebooks/data_table.ipynb>data table notebook</a>'\n",
              "            + ' to learn more about interactive tables.';\n",
              "          element.innerHTML = '';\n",
              "          dataTable['output_type'] = 'display_data';\n",
              "          await google.colab.output.renderOutput(dataTable, element);\n",
              "          const docLink = document.createElement('div');\n",
              "          docLink.innerHTML = docLinkHtml;\n",
              "          element.appendChild(docLink);\n",
              "        }\n",
              "      </script>\n",
              "    </div>\n",
              "  </div>\n",
              "  "
            ]
          },
          "metadata": {},
          "execution_count": 60
        }
      ]
    },
    {
      "cell_type": "code",
      "source": [
        "df.shape"
      ],
      "metadata": {
        "colab": {
          "base_uri": "https://localhost:8080/"
        },
        "id": "p2qzqNEwhq19",
        "outputId": "01bcc24f-c98c-4d1c-f976-50da8f9a800b"
      },
      "execution_count": null,
      "outputs": [
        {
          "output_type": "execute_result",
          "data": {
            "text/plain": [
              "(284807, 31)"
            ]
          },
          "metadata": {},
          "execution_count": 61
        }
      ]
    },
    {
      "cell_type": "code",
      "source": [
        "df.isnull().sum()\n"
      ],
      "metadata": {
        "colab": {
          "base_uri": "https://localhost:8080/"
        },
        "id": "x26eTJyZhu1b",
        "outputId": "d6066cc8-25d9-49c3-aba2-02fb878a7951"
      },
      "execution_count": null,
      "outputs": [
        {
          "output_type": "execute_result",
          "data": {
            "text/plain": [
              "Time      0\n",
              "V1        0\n",
              "V2        0\n",
              "V3        0\n",
              "V4        0\n",
              "V5        0\n",
              "V6        0\n",
              "V7        0\n",
              "V8        0\n",
              "V9        0\n",
              "V10       0\n",
              "V11       0\n",
              "V12       0\n",
              "V13       0\n",
              "V14       0\n",
              "V15       0\n",
              "V16       0\n",
              "V17       0\n",
              "V18       0\n",
              "V19       0\n",
              "V20       0\n",
              "V21       0\n",
              "V22       0\n",
              "V23       0\n",
              "V24       0\n",
              "V25       0\n",
              "V26       0\n",
              "V27       0\n",
              "V28       0\n",
              "Amount    0\n",
              "Class     0\n",
              "dtype: int64"
            ]
          },
          "metadata": {},
          "execution_count": 62
        }
      ]
    },
    {
      "cell_type": "code",
      "source": [
        "df.info()\n"
      ],
      "metadata": {
        "colab": {
          "base_uri": "https://localhost:8080/"
        },
        "id": "qHuRISvwh5vU",
        "outputId": "a50dc7f6-162f-4d77-a169-21c35116ea5f"
      },
      "execution_count": null,
      "outputs": [
        {
          "output_type": "stream",
          "name": "stdout",
          "text": [
            "<class 'pandas.core.frame.DataFrame'>\n",
            "RangeIndex: 284807 entries, 0 to 284806\n",
            "Data columns (total 31 columns):\n",
            " #   Column  Non-Null Count   Dtype  \n",
            "---  ------  --------------   -----  \n",
            " 0   Time    284807 non-null  float64\n",
            " 1   V1      284807 non-null  float64\n",
            " 2   V2      284807 non-null  float64\n",
            " 3   V3      284807 non-null  float64\n",
            " 4   V4      284807 non-null  float64\n",
            " 5   V5      284807 non-null  float64\n",
            " 6   V6      284807 non-null  float64\n",
            " 7   V7      284807 non-null  float64\n",
            " 8   V8      284807 non-null  float64\n",
            " 9   V9      284807 non-null  float64\n",
            " 10  V10     284807 non-null  float64\n",
            " 11  V11     284807 non-null  float64\n",
            " 12  V12     284807 non-null  float64\n",
            " 13  V13     284807 non-null  float64\n",
            " 14  V14     284807 non-null  float64\n",
            " 15  V15     284807 non-null  float64\n",
            " 16  V16     284807 non-null  float64\n",
            " 17  V17     284807 non-null  float64\n",
            " 18  V18     284807 non-null  float64\n",
            " 19  V19     284807 non-null  float64\n",
            " 20  V20     284807 non-null  float64\n",
            " 21  V21     284807 non-null  float64\n",
            " 22  V22     284807 non-null  float64\n",
            " 23  V23     284807 non-null  float64\n",
            " 24  V24     284807 non-null  float64\n",
            " 25  V25     284807 non-null  float64\n",
            " 26  V26     284807 non-null  float64\n",
            " 27  V27     284807 non-null  float64\n",
            " 28  V28     284807 non-null  float64\n",
            " 29  Amount  284807 non-null  float64\n",
            " 30  Class   284807 non-null  int64  \n",
            "dtypes: float64(30), int64(1)\n",
            "memory usage: 67.4 MB\n"
          ]
        }
      ]
    },
    {
      "cell_type": "code",
      "source": [
        "data = df.iloc[:, :-1]\n",
        "targets = df.iloc[:,-1]"
      ],
      "metadata": {
        "id": "0wNCk831h9m5"
      },
      "execution_count": null,
      "outputs": []
    },
    {
      "cell_type": "code",
      "source": [
        "print(data.shape)\n",
        "print(targets.shape)\n"
      ],
      "metadata": {
        "colab": {
          "base_uri": "https://localhost:8080/"
        },
        "id": "voTRg998iCEc",
        "outputId": "9640bdf8-d8ab-4c72-9ce3-fa92d64db138"
      },
      "execution_count": null,
      "outputs": [
        {
          "output_type": "stream",
          "name": "stdout",
          "text": [
            "(284807, 30)\n",
            "(284807,)\n"
          ]
        }
      ]
    },
    {
      "cell_type": "code",
      "source": [
        "from sklearn.model_selection import train_test_split"
      ],
      "metadata": {
        "id": "OW7ru8mKkxtb"
      },
      "execution_count": null,
      "outputs": []
    },
    {
      "cell_type": "code",
      "source": [
        "train_data, test_data, train_targets, test_targets = train_test_split(data, targets, test_size=.3)"
      ],
      "metadata": {
        "id": "ZA6HMcROiIao"
      },
      "execution_count": null,
      "outputs": []
    },
    {
      "cell_type": "code",
      "source": [
        "train_data, validation_data, train_targets, validation_targets = train_test_split(train_data, train_targets, test_size=.2)\n"
      ],
      "metadata": {
        "id": "pHGm5jWsiNXK"
      },
      "execution_count": null,
      "outputs": []
    },
    {
      "cell_type": "code",
      "source": [
        "mean = np.mean(train_data)\n",
        "std = np.std(train_data)\n",
        "\n",
        "\n",
        "train_data -= mean\n",
        "train_data /= std\n",
        "\n",
        "validation_data -= mean\n",
        "validation_data /= std\n",
        "\n",
        "test_data -= mean\n",
        "test_data /= std"
      ],
      "metadata": {
        "id": "8iKkY36giRzH",
        "colab": {
          "base_uri": "https://localhost:8080/"
        },
        "outputId": "a37e267b-e579-4cef-defc-0500b23f8bf1"
      },
      "execution_count": null,
      "outputs": [
        {
          "output_type": "stream",
          "name": "stderr",
          "text": [
            "/usr/local/lib/python3.10/dist-packages/numpy/core/fromnumeric.py:3472: FutureWarning: In a future version, DataFrame.mean(axis=None) will return a scalar mean over the entire DataFrame. To retain the old behavior, use 'frame.mean(axis=0)' or just 'frame.mean()'\n",
            "  return mean(axis=axis, dtype=dtype, out=out, **kwargs)\n"
          ]
        }
      ]
    },
    {
      "cell_type": "code",
      "source": [
        "from keras import models, layers\n"
      ],
      "metadata": {
        "id": "-eLjcG0koYHg"
      },
      "execution_count": null,
      "outputs": []
    },
    {
      "cell_type": "code",
      "source": [
        "model = models.Sequential()\n",
        "\n",
        "model.add(layers.Dense(10, input_shape=(train_data.shape[1],), activation='relu'))\n",
        "\n",
        "model.add(layers.Dense(8, activation='relu'))\n",
        "\n",
        "model.add(layers.Dense(6, activation='relu'))\n",
        "\n",
        "model.add(layers.Dense(1, activation='sigmoid'))"
      ],
      "metadata": {
        "id": "zJ4BjDoVrDE9"
      },
      "execution_count": null,
      "outputs": []
    },
    {
      "cell_type": "code",
      "source": [
        "from sklearn.metrics import classification_report\n",
        "\n",
        "model.compile(optimizer='rmsprop', loss='binary_crossentropy')"
      ],
      "metadata": {
        "id": "-Eke1EeRrJb0"
      },
      "execution_count": null,
      "outputs": []
    },
    {
      "cell_type": "code",
      "source": [
        "history = model.fit(train_data, train_targets, epochs=100, batch_size=64)"
      ],
      "metadata": {
        "colab": {
          "base_uri": "https://localhost:8080/"
        },
        "id": "h92IzAtZrNn6",
        "outputId": "5b551f50-eafd-4f0c-9115-d4b9f5e72917"
      },
      "execution_count": null,
      "outputs": [
        {
          "output_type": "stream",
          "name": "stdout",
          "text": [
            "Epoch 1/100\n",
            "2493/2493 [==============================] - 12s 4ms/step - loss: 0.0220\n",
            "Epoch 2/100\n",
            "2493/2493 [==============================] - 9s 4ms/step - loss: 0.0061\n",
            "Epoch 3/100\n",
            "2493/2493 [==============================] - 8s 3ms/step - loss: 0.0056\n",
            "Epoch 4/100\n",
            "2493/2493 [==============================] - 10s 4ms/step - loss: 0.0051\n",
            "Epoch 5/100\n",
            "2493/2493 [==============================] - 9s 4ms/step - loss: 0.0048\n",
            "Epoch 6/100\n",
            "2493/2493 [==============================] - 8s 3ms/step - loss: 0.0046\n",
            "Epoch 7/100\n",
            "2493/2493 [==============================] - 9s 4ms/step - loss: 0.0045\n",
            "Epoch 8/100\n",
            "2493/2493 [==============================] - 9s 3ms/step - loss: 0.0044\n",
            "Epoch 9/100\n",
            "2493/2493 [==============================] - 8s 3ms/step - loss: 0.0045\n",
            "Epoch 10/100\n",
            "2493/2493 [==============================] - 9s 4ms/step - loss: 0.0046\n",
            "Epoch 11/100\n",
            "2493/2493 [==============================] - 8s 3ms/step - loss: 0.0045\n",
            "Epoch 12/100\n",
            "2493/2493 [==============================] - 9s 3ms/step - loss: 0.0045\n",
            "Epoch 13/100\n",
            "2493/2493 [==============================] - 9s 4ms/step - loss: 0.0045\n",
            "Epoch 14/100\n",
            "2493/2493 [==============================] - 8s 3ms/step - loss: 0.0046\n",
            "Epoch 15/100\n",
            "2493/2493 [==============================] - 9s 4ms/step - loss: 0.0046\n",
            "Epoch 16/100\n",
            "2493/2493 [==============================] - 9s 4ms/step - loss: 0.0046\n",
            "Epoch 17/100\n",
            "2493/2493 [==============================] - 8s 3ms/step - loss: 0.0046\n",
            "Epoch 18/100\n",
            "2493/2493 [==============================] - 9s 4ms/step - loss: 0.0045\n",
            "Epoch 19/100\n",
            "2493/2493 [==============================] - 9s 4ms/step - loss: 0.0046\n",
            "Epoch 20/100\n",
            "2493/2493 [==============================] - 8s 3ms/step - loss: 0.0046\n",
            "Epoch 21/100\n",
            "2493/2493 [==============================] - 9s 4ms/step - loss: 0.0046\n",
            "Epoch 22/100\n",
            "2493/2493 [==============================] - 8s 3ms/step - loss: 0.0047\n",
            "Epoch 23/100\n",
            "2493/2493 [==============================] - 8s 3ms/step - loss: 0.0047\n",
            "Epoch 24/100\n",
            "2493/2493 [==============================] - 9s 4ms/step - loss: 0.0047\n",
            "Epoch 25/100\n",
            "2493/2493 [==============================] - 8s 3ms/step - loss: 0.0046\n",
            "Epoch 26/100\n",
            "2493/2493 [==============================] - 9s 4ms/step - loss: 0.0047\n",
            "Epoch 27/100\n",
            "2493/2493 [==============================] - 9s 4ms/step - loss: 0.0046\n",
            "Epoch 28/100\n",
            "2493/2493 [==============================] - 8s 3ms/step - loss: 0.0047\n",
            "Epoch 29/100\n",
            "2493/2493 [==============================] - 9s 4ms/step - loss: 0.0047\n",
            "Epoch 30/100\n",
            "2493/2493 [==============================] - 9s 4ms/step - loss: 0.0047\n",
            "Epoch 31/100\n",
            "2493/2493 [==============================] - 8s 3ms/step - loss: 0.0047\n",
            "Epoch 32/100\n",
            "2493/2493 [==============================] - 9s 4ms/step - loss: 0.0047\n",
            "Epoch 33/100\n",
            "2493/2493 [==============================] - 9s 3ms/step - loss: 0.0048\n",
            "Epoch 34/100\n",
            "2493/2493 [==============================] - 8s 3ms/step - loss: 0.0046\n",
            "Epoch 35/100\n",
            "2493/2493 [==============================] - 9s 4ms/step - loss: 0.0046\n",
            "Epoch 36/100\n",
            "2493/2493 [==============================] - 8s 3ms/step - loss: 0.0046\n",
            "Epoch 37/100\n",
            "2493/2493 [==============================] - 8s 3ms/step - loss: 0.0046\n",
            "Epoch 38/100\n",
            "2493/2493 [==============================] - 9s 4ms/step - loss: 0.0046\n",
            "Epoch 39/100\n",
            "2493/2493 [==============================] - 8s 3ms/step - loss: 0.0045\n",
            "Epoch 40/100\n",
            "2493/2493 [==============================] - 9s 4ms/step - loss: 0.0046\n",
            "Epoch 41/100\n",
            "2493/2493 [==============================] - 9s 4ms/step - loss: 0.0044\n",
            "Epoch 42/100\n",
            "2493/2493 [==============================] - 8s 3ms/step - loss: 0.0046\n",
            "Epoch 43/100\n",
            "2493/2493 [==============================] - 9s 4ms/step - loss: 0.0044\n",
            "Epoch 44/100\n",
            "2493/2493 [==============================] - 9s 4ms/step - loss: 0.0044\n",
            "Epoch 45/100\n",
            "2493/2493 [==============================] - 8s 3ms/step - loss: 0.0045\n",
            "Epoch 46/100\n",
            "2493/2493 [==============================] - 9s 4ms/step - loss: 0.0044\n",
            "Epoch 47/100\n",
            "2493/2493 [==============================] - 9s 4ms/step - loss: 0.0044\n",
            "Epoch 48/100\n",
            "2493/2493 [==============================] - 8s 3ms/step - loss: 0.0044\n",
            "Epoch 49/100\n",
            "2493/2493 [==============================] - 9s 4ms/step - loss: 0.0046\n",
            "Epoch 50/100\n",
            "2493/2493 [==============================] - 9s 3ms/step - loss: 0.0044\n",
            "Epoch 51/100\n",
            "2493/2493 [==============================] - 8s 3ms/step - loss: 0.0046\n",
            "Epoch 52/100\n",
            "2493/2493 [==============================] - 9s 4ms/step - loss: 0.0046\n",
            "Epoch 53/100\n",
            "2493/2493 [==============================] - 8s 3ms/step - loss: 0.0044\n",
            "Epoch 54/100\n",
            "2493/2493 [==============================] - 9s 3ms/step - loss: 0.0045\n",
            "Epoch 55/100\n",
            "2493/2493 [==============================] - 9s 4ms/step - loss: 0.0045\n",
            "Epoch 56/100\n",
            "2493/2493 [==============================] - 8s 3ms/step - loss: 0.0045\n",
            "Epoch 57/100\n",
            "2493/2493 [==============================] - 9s 4ms/step - loss: 0.0043\n",
            "Epoch 58/100\n",
            "2493/2493 [==============================] - 9s 4ms/step - loss: 0.0045\n",
            "Epoch 59/100\n",
            "2493/2493 [==============================] - 8s 3ms/step - loss: 0.0044\n",
            "Epoch 60/100\n",
            "2493/2493 [==============================] - 9s 4ms/step - loss: 0.0044\n",
            "Epoch 61/100\n",
            "2493/2493 [==============================] - 9s 4ms/step - loss: 0.0044\n",
            "Epoch 62/100\n",
            "2493/2493 [==============================] - 8s 3ms/step - loss: 0.0045\n",
            "Epoch 63/100\n",
            "2493/2493 [==============================] - 9s 4ms/step - loss: 0.0044\n",
            "Epoch 64/100\n",
            "2493/2493 [==============================] - 9s 4ms/step - loss: 0.0045\n",
            "Epoch 65/100\n",
            "2493/2493 [==============================] - 8s 3ms/step - loss: 0.0046\n",
            "Epoch 66/100\n",
            "2493/2493 [==============================] - 9s 4ms/step - loss: 0.0045\n",
            "Epoch 67/100\n",
            "2493/2493 [==============================] - 9s 4ms/step - loss: 0.0044\n",
            "Epoch 68/100\n",
            "2493/2493 [==============================] - 9s 3ms/step - loss: 0.0045\n",
            "Epoch 69/100\n",
            "2493/2493 [==============================] - 10s 4ms/step - loss: 0.0045\n",
            "Epoch 70/100\n",
            "2493/2493 [==============================] - 9s 3ms/step - loss: 0.0045\n",
            "Epoch 71/100\n",
            "2493/2493 [==============================] - 9s 3ms/step - loss: 0.0047\n",
            "Epoch 72/100\n",
            "2493/2493 [==============================] - 9s 4ms/step - loss: 0.0045\n",
            "Epoch 73/100\n",
            "2493/2493 [==============================] - 8s 3ms/step - loss: 0.0044\n",
            "Epoch 74/100\n",
            "2493/2493 [==============================] - 9s 4ms/step - loss: 0.0045\n",
            "Epoch 75/100\n",
            "2493/2493 [==============================] - 9s 4ms/step - loss: 0.0045\n",
            "Epoch 76/100\n",
            "2493/2493 [==============================] - 8s 3ms/step - loss: 0.0044\n",
            "Epoch 77/100\n",
            "2493/2493 [==============================] - 9s 4ms/step - loss: 0.0046\n",
            "Epoch 78/100\n",
            "2493/2493 [==============================] - 9s 4ms/step - loss: 0.0045\n",
            "Epoch 79/100\n",
            "2493/2493 [==============================] - 8s 3ms/step - loss: 0.0046\n",
            "Epoch 80/100\n",
            "2493/2493 [==============================] - 9s 4ms/step - loss: 0.0045\n",
            "Epoch 81/100\n",
            "2493/2493 [==============================] - 9s 4ms/step - loss: 0.0049\n",
            "Epoch 82/100\n",
            "2493/2493 [==============================] - 8s 3ms/step - loss: 0.0045\n",
            "Epoch 83/100\n",
            "2493/2493 [==============================] - 9s 4ms/step - loss: 0.0046\n",
            "Epoch 84/100\n",
            "2493/2493 [==============================] - 9s 4ms/step - loss: 0.0045\n",
            "Epoch 85/100\n",
            "2493/2493 [==============================] - 8s 3ms/step - loss: 0.0044\n",
            "Epoch 86/100\n",
            "2493/2493 [==============================] - 9s 4ms/step - loss: 0.0046\n",
            "Epoch 87/100\n",
            "2493/2493 [==============================] - 9s 3ms/step - loss: 0.0045\n",
            "Epoch 88/100\n",
            "2493/2493 [==============================] - 8s 3ms/step - loss: 0.0046\n",
            "Epoch 89/100\n",
            "2493/2493 [==============================] - 9s 4ms/step - loss: 0.0045\n",
            "Epoch 90/100\n",
            "2493/2493 [==============================] - 8s 3ms/step - loss: 0.0045\n",
            "Epoch 91/100\n",
            "2493/2493 [==============================] - 9s 3ms/step - loss: 0.0045\n",
            "Epoch 92/100\n",
            "2493/2493 [==============================] - 9s 4ms/step - loss: 0.0045\n",
            "Epoch 93/100\n",
            "2493/2493 [==============================] - 8s 3ms/step - loss: 0.0045\n",
            "Epoch 94/100\n",
            "2493/2493 [==============================] - 9s 4ms/step - loss: 0.0046\n",
            "Epoch 95/100\n",
            "2493/2493 [==============================] - 9s 4ms/step - loss: 0.0045\n",
            "Epoch 96/100\n",
            "2493/2493 [==============================] - 8s 3ms/step - loss: 0.0046\n",
            "Epoch 97/100\n",
            "2493/2493 [==============================] - 9s 4ms/step - loss: 0.0045\n",
            "Epoch 98/100\n",
            "2493/2493 [==============================] - 9s 4ms/step - loss: 0.0044\n",
            "Epoch 99/100\n",
            "2493/2493 [==============================] - 8s 3ms/step - loss: 0.0046\n",
            "Epoch 100/100\n",
            "2493/2493 [==============================] - 9s 4ms/step - loss: 0.0045\n"
          ]
        }
      ]
    },
    {
      "cell_type": "code",
      "source": [
        "val_predictions = model.predict(validation_data)"
      ],
      "metadata": {
        "colab": {
          "base_uri": "https://localhost:8080/"
        },
        "id": "0uszC8jluqcX",
        "outputId": "9986bca7-21cb-4285-e701-d4ce37018837"
      },
      "execution_count": null,
      "outputs": [
        {
          "output_type": "stream",
          "name": "stdout",
          "text": [
            "1247/1247 [==============================] - 2s 1ms/step\n"
          ]
        }
      ]
    },
    {
      "cell_type": "code",
      "source": [
        "val_predictions"
      ],
      "metadata": {
        "colab": {
          "base_uri": "https://localhost:8080/"
        },
        "id": "2vu1gsMquvGL",
        "outputId": "ee3122f9-ca1a-444d-e799-da6abef0db75"
      },
      "execution_count": null,
      "outputs": [
        {
          "output_type": "execute_result",
          "data": {
            "text/plain": [
              "array([[2.9819732e-06],\n",
              "       [2.2575466e-07],\n",
              "       [3.2815340e-06],\n",
              "       ...,\n",
              "       [5.6661638e-15],\n",
              "       [1.1678989e-08],\n",
              "       [4.7299731e-05]], dtype=float32)"
            ]
          },
          "metadata": {},
          "execution_count": 72
        }
      ]
    },
    {
      "cell_type": "code",
      "source": [
        "preds = np.around(val_predictions)"
      ],
      "metadata": {
        "id": "zr_jU6Qtuxnz"
      },
      "execution_count": null,
      "outputs": []
    },
    {
      "cell_type": "code",
      "source": [
        "preds"
      ],
      "metadata": {
        "colab": {
          "base_uri": "https://localhost:8080/"
        },
        "id": "OOI0fw0Ku1V-",
        "outputId": "8881f0a4-1b40-4cb8-9c6b-6ad1c8fa8f10"
      },
      "execution_count": null,
      "outputs": [
        {
          "output_type": "execute_result",
          "data": {
            "text/plain": [
              "array([[0.],\n",
              "       [0.],\n",
              "       [0.],\n",
              "       ...,\n",
              "       [0.],\n",
              "       [0.],\n",
              "       [0.]], dtype=float32)"
            ]
          },
          "metadata": {},
          "execution_count": 74
        }
      ]
    },
    {
      "cell_type": "code",
      "source": [
        "print(classification_report(validation_targets, preds))"
      ],
      "metadata": {
        "colab": {
          "base_uri": "https://localhost:8080/"
        },
        "id": "A53oN7ddu4OJ",
        "outputId": "4d620c7d-231c-4199-8424-8162fbdc16d1"
      },
      "execution_count": null,
      "outputs": [
        {
          "output_type": "stream",
          "name": "stdout",
          "text": [
            "              precision    recall  f1-score   support\n",
            "\n",
            "           0       1.00      1.00      1.00     39808\n",
            "           1       0.86      0.78      0.82        65\n",
            "\n",
            "    accuracy                           1.00     39873\n",
            "   macro avg       0.93      0.89      0.91     39873\n",
            "weighted avg       1.00      1.00      1.00     39873\n",
            "\n"
          ]
        }
      ]
    },
    {
      "cell_type": "code",
      "source": [
        "test_preds = model.predict(test_data)"
      ],
      "metadata": {
        "colab": {
          "base_uri": "https://localhost:8080/"
        },
        "id": "aQW9G2Bau7sA",
        "outputId": "b48c893d-4258-4182-c699-ad1970e9999f"
      },
      "execution_count": null,
      "outputs": [
        {
          "output_type": "stream",
          "name": "stdout",
          "text": [
            "2671/2671 [==============================] - 4s 1ms/step\n"
          ]
        }
      ]
    },
    {
      "cell_type": "code",
      "source": [
        "test_preds.shape"
      ],
      "metadata": {
        "id": "VWOMpBF8vBOt",
        "colab": {
          "base_uri": "https://localhost:8080/"
        },
        "outputId": "16775845-30d4-4ceb-bf92-ffedae1b4151"
      },
      "execution_count": null,
      "outputs": [
        {
          "output_type": "execute_result",
          "data": {
            "text/plain": [
              "(85443, 1)"
            ]
          },
          "metadata": {},
          "execution_count": 77
        }
      ]
    },
    {
      "cell_type": "code",
      "source": [
        "test_preds = test_preds.reshape(85443)"
      ],
      "metadata": {
        "id": "W2bBvQiZvDob"
      },
      "execution_count": null,
      "outputs": []
    },
    {
      "cell_type": "code",
      "source": [
        "test_preds = np.round(test_preds)"
      ],
      "metadata": {
        "id": "7kV0Bc9NvFdv"
      },
      "execution_count": null,
      "outputs": []
    },
    {
      "cell_type": "code",
      "source": [
        "print(classification_report(test_targets, test_preds))"
      ],
      "metadata": {
        "colab": {
          "base_uri": "https://localhost:8080/"
        },
        "id": "wF8jhWtivFfy",
        "outputId": "e4e4f730-96f8-4559-fe80-ba2bc876e5d9"
      },
      "execution_count": null,
      "outputs": [
        {
          "output_type": "stream",
          "name": "stdout",
          "text": [
            "              precision    recall  f1-score   support\n",
            "\n",
            "           0       1.00      1.00      1.00     85300\n",
            "           1       0.81      0.84      0.82       143\n",
            "\n",
            "    accuracy                           1.00     85443\n",
            "   macro avg       0.90      0.92      0.91     85443\n",
            "weighted avg       1.00      1.00      1.00     85443\n",
            "\n"
          ]
        }
      ]
    },
    {
      "cell_type": "code",
      "source": [
        "output_df = pd.DataFrame({'Actual': test_targets, 'Prediction': test_preds})"
      ],
      "metadata": {
        "id": "VdgMko00vFiH"
      },
      "execution_count": null,
      "outputs": []
    },
    {
      "cell_type": "code",
      "source": [
        "output_df.head()"
      ],
      "metadata": {
        "colab": {
          "base_uri": "https://localhost:8080/",
          "height": 206
        },
        "id": "DrpsnovhvFko",
        "outputId": "494f0b02-2213-4bfc-db69-a138396ae3dc"
      },
      "execution_count": null,
      "outputs": [
        {
          "output_type": "execute_result",
          "data": {
            "text/plain": [
              "        Actual  Prediction\n",
              "252372       0         0.0\n",
              "53169        0         0.0\n",
              "199893       0         0.0\n",
              "29389        0         0.0\n",
              "263403       0         0.0"
            ],
            "text/html": [
              "\n",
              "  <div id=\"df-afb2ad7b-631f-4f13-943b-92410cbd160c\">\n",
              "    <div class=\"colab-df-container\">\n",
              "      <div>\n",
              "<style scoped>\n",
              "    .dataframe tbody tr th:only-of-type {\n",
              "        vertical-align: middle;\n",
              "    }\n",
              "\n",
              "    .dataframe tbody tr th {\n",
              "        vertical-align: top;\n",
              "    }\n",
              "\n",
              "    .dataframe thead th {\n",
              "        text-align: right;\n",
              "    }\n",
              "</style>\n",
              "<table border=\"1\" class=\"dataframe\">\n",
              "  <thead>\n",
              "    <tr style=\"text-align: right;\">\n",
              "      <th></th>\n",
              "      <th>Actual</th>\n",
              "      <th>Prediction</th>\n",
              "    </tr>\n",
              "  </thead>\n",
              "  <tbody>\n",
              "    <tr>\n",
              "      <th>252372</th>\n",
              "      <td>0</td>\n",
              "      <td>0.0</td>\n",
              "    </tr>\n",
              "    <tr>\n",
              "      <th>53169</th>\n",
              "      <td>0</td>\n",
              "      <td>0.0</td>\n",
              "    </tr>\n",
              "    <tr>\n",
              "      <th>199893</th>\n",
              "      <td>0</td>\n",
              "      <td>0.0</td>\n",
              "    </tr>\n",
              "    <tr>\n",
              "      <th>29389</th>\n",
              "      <td>0</td>\n",
              "      <td>0.0</td>\n",
              "    </tr>\n",
              "    <tr>\n",
              "      <th>263403</th>\n",
              "      <td>0</td>\n",
              "      <td>0.0</td>\n",
              "    </tr>\n",
              "  </tbody>\n",
              "</table>\n",
              "</div>\n",
              "      <button class=\"colab-df-convert\" onclick=\"convertToInteractive('df-afb2ad7b-631f-4f13-943b-92410cbd160c')\"\n",
              "              title=\"Convert this dataframe to an interactive table.\"\n",
              "              style=\"display:none;\">\n",
              "        \n",
              "  <svg xmlns=\"http://www.w3.org/2000/svg\" height=\"24px\"viewBox=\"0 0 24 24\"\n",
              "       width=\"24px\">\n",
              "    <path d=\"M0 0h24v24H0V0z\" fill=\"none\"/>\n",
              "    <path d=\"M18.56 5.44l.94 2.06.94-2.06 2.06-.94-2.06-.94-.94-2.06-.94 2.06-2.06.94zm-11 1L8.5 8.5l.94-2.06 2.06-.94-2.06-.94L8.5 2.5l-.94 2.06-2.06.94zm10 10l.94 2.06.94-2.06 2.06-.94-2.06-.94-.94-2.06-.94 2.06-2.06.94z\"/><path d=\"M17.41 7.96l-1.37-1.37c-.4-.4-.92-.59-1.43-.59-.52 0-1.04.2-1.43.59L10.3 9.45l-7.72 7.72c-.78.78-.78 2.05 0 2.83L4 21.41c.39.39.9.59 1.41.59.51 0 1.02-.2 1.41-.59l7.78-7.78 2.81-2.81c.8-.78.8-2.07 0-2.86zM5.41 20L4 18.59l7.72-7.72 1.47 1.35L5.41 20z\"/>\n",
              "  </svg>\n",
              "      </button>\n",
              "      \n",
              "  <style>\n",
              "    .colab-df-container {\n",
              "      display:flex;\n",
              "      flex-wrap:wrap;\n",
              "      gap: 12px;\n",
              "    }\n",
              "\n",
              "    .colab-df-convert {\n",
              "      background-color: #E8F0FE;\n",
              "      border: none;\n",
              "      border-radius: 50%;\n",
              "      cursor: pointer;\n",
              "      display: none;\n",
              "      fill: #1967D2;\n",
              "      height: 32px;\n",
              "      padding: 0 0 0 0;\n",
              "      width: 32px;\n",
              "    }\n",
              "\n",
              "    .colab-df-convert:hover {\n",
              "      background-color: #E2EBFA;\n",
              "      box-shadow: 0px 1px 2px rgba(60, 64, 67, 0.3), 0px 1px 3px 1px rgba(60, 64, 67, 0.15);\n",
              "      fill: #174EA6;\n",
              "    }\n",
              "\n",
              "    [theme=dark] .colab-df-convert {\n",
              "      background-color: #3B4455;\n",
              "      fill: #D2E3FC;\n",
              "    }\n",
              "\n",
              "    [theme=dark] .colab-df-convert:hover {\n",
              "      background-color: #434B5C;\n",
              "      box-shadow: 0px 1px 3px 1px rgba(0, 0, 0, 0.15);\n",
              "      filter: drop-shadow(0px 1px 2px rgba(0, 0, 0, 0.3));\n",
              "      fill: #FFFFFF;\n",
              "    }\n",
              "  </style>\n",
              "\n",
              "      <script>\n",
              "        const buttonEl =\n",
              "          document.querySelector('#df-afb2ad7b-631f-4f13-943b-92410cbd160c button.colab-df-convert');\n",
              "        buttonEl.style.display =\n",
              "          google.colab.kernel.accessAllowed ? 'block' : 'none';\n",
              "\n",
              "        async function convertToInteractive(key) {\n",
              "          const element = document.querySelector('#df-afb2ad7b-631f-4f13-943b-92410cbd160c');\n",
              "          const dataTable =\n",
              "            await google.colab.kernel.invokeFunction('convertToInteractive',\n",
              "                                                     [key], {});\n",
              "          if (!dataTable) return;\n",
              "\n",
              "          const docLinkHtml = 'Like what you see? Visit the ' +\n",
              "            '<a target=\"_blank\" href=https://colab.research.google.com/notebooks/data_table.ipynb>data table notebook</a>'\n",
              "            + ' to learn more about interactive tables.';\n",
              "          element.innerHTML = '';\n",
              "          dataTable['output_type'] = 'display_data';\n",
              "          await google.colab.output.renderOutput(dataTable, element);\n",
              "          const docLink = document.createElement('div');\n",
              "          docLink.innerHTML = docLinkHtml;\n",
              "          element.appendChild(docLink);\n",
              "        }\n",
              "      </script>\n",
              "    </div>\n",
              "  </div>\n",
              "  "
            ]
          },
          "metadata": {},
          "execution_count": 83
        }
      ]
    },
    {
      "cell_type": "code",
      "source": [
        "output_df.shape"
      ],
      "metadata": {
        "colab": {
          "base_uri": "https://localhost:8080/"
        },
        "id": "GIBJlFGtvFnQ",
        "outputId": "1ad77a5c-1b43-4f70-d9ab-0459256bb63b"
      },
      "execution_count": null,
      "outputs": [
        {
          "output_type": "execute_result",
          "data": {
            "text/plain": [
              "(85443, 2)"
            ]
          },
          "metadata": {},
          "execution_count": 84
        }
      ]
    },
    {
      "cell_type": "code",
      "source": [
        "filt = (output_df.loc[:, 'Actual'] == output_df.loc[:, 'Prediction'])\n",
        "\n",
        "output_df[filt].shape"
      ],
      "metadata": {
        "colab": {
          "base_uri": "https://localhost:8080/"
        },
        "id": "cbyLusqpvFq5",
        "outputId": "df8a1f93-f608-490a-e79e-8c138ab59728"
      },
      "execution_count": null,
      "outputs": [
        {
          "output_type": "execute_result",
          "data": {
            "text/plain": [
              "(85391, 2)"
            ]
          },
          "metadata": {},
          "execution_count": 85
        }
      ]
    },
    {
      "cell_type": "code",
      "source": [
        "# print(f'Accuracy is {(output_df[filt].shape[0]/output_df.shape[0])*100}%')"
      ],
      "metadata": {
        "id": "yyXQJMKYvgLd"
      },
      "execution_count": null,
      "outputs": []
    },
    {
      "cell_type": "code",
      "source": [
        "from sklearn.metrics import roc_auc_score\n",
        "\n",
        "roc_auc_score(test_targets, test_preds)"
      ],
      "metadata": {
        "colab": {
          "base_uri": "https://localhost:8080/"
        },
        "id": "_dtaiMWSvhEV",
        "outputId": "6f1f529e-af11-4647-a329-627f3825f86a"
      },
      "execution_count": null,
      "outputs": [
        {
          "output_type": "execute_result",
          "data": {
            "text/plain": [
              "0.919410431303749"
            ]
          },
          "metadata": {},
          "execution_count": 86
        }
      ]
    },
    {
      "cell_type": "code",
      "source": [
        "train_targets.value_counts()"
      ],
      "metadata": {
        "colab": {
          "base_uri": "https://localhost:8080/"
        },
        "id": "qCNnbyWivmfK",
        "outputId": "44e3c4bb-76d6-4dbc-b9cf-e99b5101502c"
      },
      "execution_count": null,
      "outputs": [
        {
          "output_type": "execute_result",
          "data": {
            "text/plain": [
              "0    159207\n",
              "1       284\n",
              "Name: Class, dtype: int64"
            ]
          },
          "metadata": {},
          "execution_count": 87
        }
      ]
    },
    {
      "cell_type": "code",
      "source": [
        "weights = {\n",
        "    0:1,\n",
        "    1:566\n",
        "}"
      ],
      "metadata": {
        "id": "OQGLIsUVvqMG"
      },
      "execution_count": null,
      "outputs": []
    },
    {
      "cell_type": "code",
      "source": [
        "model = models.Sequential()\n",
        "\n",
        "model.add(layers.Dense(10, input_shape=(train_data.shape[1],), activation='relu'))\n",
        "\n",
        "model.add(layers.Dense(8, activation='relu'))\n",
        "\n",
        "model.add(layers.Dense(6, activation='relu'))\n",
        "\n",
        "model.add(layers.Dense(1, activation='sigmoid'))\n",
        "\n",
        "model.compile(optimizer='rmsprop', loss='binary_crossentropy')\n",
        "\n",
        "# CHANGE\n",
        "history = model.fit(train_data, train_targets, epochs=25, validation_data=(validation_data, validation_targets), class_weight=weights)"
      ],
      "metadata": {
        "colab": {
          "base_uri": "https://localhost:8080/"
        },
        "id": "amxrUvvovtcZ",
        "outputId": "ce065de8-0721-4485-d333-fd8c51fc4f40"
      },
      "execution_count": null,
      "outputs": [
        {
          "output_type": "stream",
          "name": "stdout",
          "text": [
            "Epoch 1/25\n",
            "4985/4985 [==============================] - 32s 6ms/step - loss: 2.8608 - val_loss: 0.0057\n",
            "Epoch 2/25\n",
            "4985/4985 [==============================] - 18s 4ms/step - loss: 2.1390 - val_loss: 0.0079\n",
            "Epoch 3/25\n",
            "4985/4985 [==============================] - 19s 4ms/step - loss: 1.7650 - val_loss: 0.0062\n",
            "Epoch 4/25\n",
            "4985/4985 [==============================] - 19s 4ms/step - loss: 1.6211 - val_loss: 0.0146\n",
            "Epoch 5/25\n",
            "4985/4985 [==============================] - 22s 4ms/step - loss: 1.5502 - val_loss: 0.0069\n",
            "Epoch 6/25\n",
            "4985/4985 [==============================] - 19s 4ms/step - loss: 1.6542 - val_loss: 0.0061\n",
            "Epoch 7/25\n",
            "4985/4985 [==============================] - 20s 4ms/step - loss: 1.2739 - val_loss: 0.0147\n",
            "Epoch 8/25\n",
            "4985/4985 [==============================] - 19s 4ms/step - loss: 1.2073 - val_loss: 0.0240\n",
            "Epoch 9/25\n",
            "4985/4985 [==============================] - 20s 4ms/step - loss: 1.2046 - val_loss: 0.0062\n",
            "Epoch 10/25\n",
            "4985/4985 [==============================] - 19s 4ms/step - loss: 1.3767 - val_loss: 0.0235\n",
            "Epoch 11/25\n",
            "4985/4985 [==============================] - 19s 4ms/step - loss: 1.2683 - val_loss: 0.0061\n",
            "Epoch 12/25\n",
            "4985/4985 [==============================] - 18s 4ms/step - loss: 1.2320 - val_loss: 0.0077\n",
            "Epoch 13/25\n",
            "4985/4985 [==============================] - 19s 4ms/step - loss: 1.2652 - val_loss: 0.0062\n",
            "Epoch 14/25\n",
            "4985/4985 [==============================] - 19s 4ms/step - loss: 1.2128 - val_loss: 0.0056\n",
            "Epoch 15/25\n",
            "4985/4985 [==============================] - 19s 4ms/step - loss: 1.2657 - val_loss: 0.0353\n",
            "Epoch 16/25\n",
            "4985/4985 [==============================] - 20s 4ms/step - loss: 1.1537 - val_loss: 0.0057\n",
            "Epoch 17/25\n",
            "4985/4985 [==============================] - 19s 4ms/step - loss: 1.1466 - val_loss: 0.0058\n",
            "Epoch 18/25\n",
            "4985/4985 [==============================] - 20s 4ms/step - loss: 1.2206 - val_loss: 0.0061\n",
            "Epoch 19/25\n",
            "4985/4985 [==============================] - 18s 4ms/step - loss: 1.3086 - val_loss: 0.0088\n",
            "Epoch 20/25\n",
            "4985/4985 [==============================] - 20s 4ms/step - loss: 1.0968 - val_loss: 0.0088\n",
            "Epoch 21/25\n",
            "4985/4985 [==============================] - 18s 4ms/step - loss: 1.2943 - val_loss: 0.0331\n",
            "Epoch 22/25\n",
            "4985/4985 [==============================] - 22s 4ms/step - loss: 1.4101 - val_loss: 0.1443\n",
            "Epoch 23/25\n",
            "4985/4985 [==============================] - 19s 4ms/step - loss: 1.3870 - val_loss: 0.0055\n",
            "Epoch 24/25\n",
            "4985/4985 [==============================] - 21s 4ms/step - loss: 1.4142 - val_loss: 0.0841\n",
            "Epoch 25/25\n",
            "4985/4985 [==============================] - 19s 4ms/step - loss: 1.1232 - val_loss: 0.0082\n"
          ]
        }
      ]
    },
    {
      "cell_type": "code",
      "source": [
        "predictions = model.predict(test_data)"
      ],
      "metadata": {
        "colab": {
          "base_uri": "https://localhost:8080/"
        },
        "id": "iw5-mk1Vv5VP",
        "outputId": "5d5e7e0a-e10e-42f5-d5eb-ccbe214bce40"
      },
      "execution_count": null,
      "outputs": [
        {
          "output_type": "stream",
          "name": "stdout",
          "text": [
            "2671/2671 [==============================] - 5s 2ms/step\n"
          ]
        }
      ]
    },
    {
      "cell_type": "code",
      "source": [
        "from sklearn.metrics import roc_auc_score\n",
        "\n",
        "roc=roc_auc_score(test_targets, predictions)\n",
        "roc"
      ],
      "metadata": {
        "colab": {
          "base_uri": "https://localhost:8080/"
        },
        "id": "8o8A6Zbxv-I_",
        "outputId": "46ddf540-4e67-4e5f-a581-679793c3d9a2"
      },
      "execution_count": null,
      "outputs": [
        {
          "output_type": "execute_result",
          "data": {
            "text/plain": [
              "0.9124291476401676"
            ]
          },
          "metadata": {},
          "execution_count": 98
        }
      ]
    },
    {
      "cell_type": "code",
      "source": [
        "predictions = np.around(predictions)"
      ],
      "metadata": {
        "id": "OOWB2lScwCa7"
      },
      "execution_count": null,
      "outputs": []
    },
    {
      "cell_type": "code",
      "source": [
        "print(classification_report(test_targets, predictions))"
      ],
      "metadata": {
        "colab": {
          "base_uri": "https://localhost:8080/"
        },
        "id": "yi2aFn0AwEmd",
        "outputId": "498901c9-9174-421e-a1bb-a95cd9634669"
      },
      "execution_count": null,
      "outputs": [
        {
          "output_type": "stream",
          "name": "stdout",
          "text": [
            "              precision    recall  f1-score   support\n",
            "\n",
            "           0       1.00      1.00      1.00     85300\n",
            "           1       0.81      0.83      0.82       143\n",
            "\n",
            "    accuracy                           1.00     85443\n",
            "   macro avg       0.91      0.91      0.91     85443\n",
            "weighted avg       1.00      1.00      1.00     85443\n",
            "\n"
          ]
        }
      ]
    }
  ]
}